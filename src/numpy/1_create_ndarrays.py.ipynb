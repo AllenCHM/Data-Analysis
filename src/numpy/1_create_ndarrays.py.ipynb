{
 "cells": [
  {
   "cell_type": "code",
   "execution_count": 1,
   "metadata": {
    "collapsed": true
   },
   "outputs": [],
   "source": [
    "import numpy as np"
   ]
  },
  {
   "cell_type": "code",
   "execution_count": 3,
   "metadata": {
    "collapsed": false
   },
   "outputs": [
    {
     "name": "stdout",
     "output_type": "stream",
     "text": [
      "使用普通一维数组生成Numpy一维数组\n",
      "[ 6.   7.5  8.   0.   1. ]\n",
      "打印元素类型\n",
      "float64\n"
     ]
    }
   ],
   "source": [
    "print '使用普通一维数组生成Numpy一维数组'\n",
    "data = [6, 7.5, 8, 0, 1]\n",
    "arr =  np.array(data)\n",
    "print arr\n",
    "print '打印元素类型'\n",
    "print arr.dtype"
   ]
  },
  {
   "cell_type": "code",
   "execution_count": 4,
   "metadata": {
    "collapsed": false
   },
   "outputs": [
    {
     "name": "stdout",
     "output_type": "stream",
     "text": [
      "使用普通二维数组生成NumPy二维数组\n",
      "[[1 2 3 4]\n",
      " [5 6 7 8]]\n",
      "维度\n",
      "(2L, 4L)\n"
     ]
    }
   ],
   "source": [
    "print '使用普通二维数组生成NumPy二维数组'\n",
    "data= [[1, 2, 3, 4],[5, 6, 7, 8]]\n",
    "arr = np.array(data)\n",
    "print arr\n",
    "print '维度'\n",
    "print arr.shape"
   ]
  },
  {
   "cell_type": "code",
   "execution_count": 6,
   "metadata": {
    "collapsed": false
   },
   "outputs": [
    {
     "name": "stdout",
     "output_type": "stream",
     "text": [
      "使用zeros/empty\n",
      "[ 0.  0.  0.  0.  0.  0.  0.  0.  0.  0.]\n",
      "[[ 0.  0.  0.  0.  0.  0.]\n",
      " [ 0.  0.  0.  0.  0.  0.]\n",
      " [ 0.  0.  0.  0.  0.  0.]]\n",
      "[[[ -2.85997747e+174   1.14578545e+243]\n",
      "  [  1.13224202e+277   2.43813713e-152]\n",
      "  [  1.09936966e+248   1.47999830e-076]]\n",
      "\n",
      " [[  8.82069558e+199   6.79000872e+180]\n",
      "  [  9.64755386e-048   1.65312950e-153]\n",
      "  [ -2.95588118e+191   6.17139036e-038]]]\n"
     ]
    }
   ],
   "source": [
    "print '使用zeros/empty'\n",
    "print np.zeros(10) #10个0\n",
    "print np.zeros((3, 6)) #3*6 全0数组\n",
    "print np.empty((2,3,2)) #2*3*2数组 未初始化"
   ]
  },
  {
   "cell_type": "code",
   "execution_count": 8,
   "metadata": {
    "collapsed": false
   },
   "outputs": [
    {
     "name": "stdout",
     "output_type": "stream",
     "text": [
      "使用arrange生成连续元素\n",
      "[ 0  1  2  3  4  5  6  7  8  9 10 11 12 13 14]\n"
     ]
    }
   ],
   "source": [
    "print '使用arrange生成连续元素'\n",
    "print np.arange(15)"
   ]
  },
  {
   "cell_type": "code",
   "execution_count": 15,
   "metadata": {
    "collapsed": false
   },
   "outputs": [
    {
     "name": "stdout",
     "output_type": "stream",
     "text": [
      "使用ones\n",
      "[[ 1.  1.  1.  1.  1.  1.  1.  1.  1.  1.]\n",
      " [ 1.  1.  1.  1.  1.  1.  1.  1.  1.  1.]]\n",
      "[[ 1.  1.  1.  1.  1.  1.  1.  1.  1.  1.]\n",
      " [ 1.  1.  1.  1.  1.  1.  1.  1.  1.  1.]]\n"
     ]
    }
   ],
   "source": [
    "print '使用ones'\n",
    "a = np.ones((2,10))\n",
    "print a\n",
    "print np.ones_like(a)"
   ]
  },
  {
   "cell_type": "code",
   "execution_count": 19,
   "metadata": {
    "collapsed": false
   },
   "outputs": [
    {
     "name": "stdout",
     "output_type": "stream",
     "text": [
      "[[ 1.  0.  0.  0.]\n",
      " [ 0.  1.  0.  0.]\n",
      " [ 0.  0.  1.  0.]\n",
      " [ 0.  0.  0.  1.]]\n",
      "[[ 1.  0.  0.  0.  0.]\n",
      " [ 0.  1.  0.  0.  0.]\n",
      " [ 0.  0.  1.  0.  0.]\n",
      " [ 0.  0.  0.  1.  0.]\n",
      " [ 0.  0.  0.  0.  1.]]\n"
     ]
    }
   ],
   "source": [
    "print np.eye(4)\n",
    "print np.identity(5)"
   ]
  },
  {
   "cell_type": "code",
   "execution_count": 32,
   "metadata": {
    "collapsed": false
   },
   "outputs": [
    {
     "name": "stdout",
     "output_type": "stream",
     "text": [
      "astype类型转换\n",
      "['0' '1' '2' '3' '4' '5' '6' '7' '8' '9' '10' '11' '12' '13' '14']\n",
      "[  0.   1.   2.   3.   4.   5.   6.   7.   8.   9.  10.  11.  12.  13.  14.]\n",
      "|S11\n",
      "[  0.   1.   2.   3.   4.   5.   6.   7.   8.   9.  10.  11.  12.  13.  14.]\n"
     ]
    }
   ],
   "source": [
    "print 'astype类型转换'\n",
    "b= np.arange(15).astype('string')\n",
    "print b\n",
    "print b.astype('float32')\n",
    "print b.dtype\n",
    "print b.astype('float64')"
   ]
  },
  {
   "cell_type": "code",
   "execution_count": 31,
   "metadata": {
    "collapsed": false
   },
   "outputs": [
    {
     "name": "stdout",
     "output_type": "stream",
     "text": [
      "指定dtype创建ndarray\n",
      "['1' '1' '1' '1' '1' '1' '1' '1' '1' '1' '1' '1' '1' '1' '1']\n"
     ]
    }
   ],
   "source": [
    "print '指定dtype创建ndarray'\n",
    "print np.ones(15,dtype='string')"
   ]
  },
  {
   "cell_type": "code",
   "execution_count": null,
   "metadata": {
    "collapsed": true
   },
   "outputs": [],
   "source": []
  }
 ],
 "metadata": {
  "kernelspec": {
   "display_name": "Python 2",
   "language": "python",
   "name": "python2"
  },
  "language_info": {
   "codemirror_mode": {
    "name": "ipython",
    "version": 2
   },
   "file_extension": ".py",
   "mimetype": "text/x-python",
   "name": "python",
   "nbconvert_exporter": "python",
   "pygments_lexer": "ipython2",
   "version": "2.7.11"
  }
 },
 "nbformat": 4,
 "nbformat_minor": 1
}
